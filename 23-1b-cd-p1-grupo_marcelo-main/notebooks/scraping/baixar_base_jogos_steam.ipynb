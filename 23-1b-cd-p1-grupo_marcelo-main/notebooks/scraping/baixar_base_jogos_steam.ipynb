{
 "cells": [
  {
   "cell_type": "markdown",
   "id": "675a8ca7",
   "metadata": {},
   "source": [
    "___\n",
    "# Insper - Ciência dos Dados - Projeto 1\n",
    "\n",
    "# Obtenção das avaliações\n",
    "\n",
    "Utilize este notebook para **baixar avaliações de jogos**.\n",
    "\n",
    "O código abaixo irá automativamente baixar um conjunto de avaliações reais de jogos submetidas por usuários da Steam.\n",
    "\n",
    "Será gerado um arquivo `dados.xlsx` contendo as informações disponíveis para o projeto.\n",
    "\n",
    "## Preparação do ambiente no jupyter\n",
    "\n",
    "Vamos importar algumas bibliotecas e definir algumas funções úteis!"
   ]
  },
  {
   "cell_type": "code",
   "execution_count": null,
   "id": "7db82b9b",
   "metadata": {},
   "outputs": [],
   "source": [
    "pip install urllib3"
   ]
  },
  {
   "cell_type": "code",
   "execution_count": null,
   "id": "3f50afd8",
   "metadata": {},
   "outputs": [],
   "source": [
    "import pandas as pd\n",
    "import numpy as np\n",
    "import hashlib\n",
    "from sklearn.utils import shuffle\n",
    "import os.path\n",
    "import urllib.request"
   ]
  },
  {
   "cell_type": "code",
   "execution_count": null,
   "id": "c0881a0c",
   "metadata": {},
   "outputs": [],
   "source": [
    "def decode(byt):\n",
    "    mask = b'dataset'\n",
    "    lmask = len(mask)\n",
    "    return bytes(c ^ mask[i % lmask] for i, c in enumerate(byt))\n",
    "\n",
    "def get_data(usuario=\"user\", avaliacoes=500):\n",
    "    file_path = '../../data/dados.xlsx'\n",
    "    if not os.path.isfile(file_path):\n",
    "\n",
    "        print(f'Ok! Vou baixar avaliações de jogos da Steam!')\n",
    "        print('\\nAguarde... Este processo pode demorar alguns minutos!')\n",
    "\n",
    "        target = decode(b\"\\x0c\\x15\\x00\\x11\\x00_[K\\x13\\x15\\x16]\\x02\\x1d\\x10\\t\\x01\\x03\\x06\\x16\\x11\\x16\\x02\\x1b\\x0f\\x07\\x00\\x1a\\x10O\\x17\\x0e\\x1eJ\\x19\\x02\\x12\\x00\\x00\\x11\\x0c\\x18\\x01N'\\x15\\x16\\x04\\x19 \\x00\\x00\\x00\\\\\\x08\\x15\\r\\x0f[\\x12\\x07\\x00\\x15\\t>\\x1a\\x04\\x14K\\x17\\x17\\x17\").decode('ascii')\n",
    "        ldf = pd.read_csv(target,usecols=[\"app_name\",\"review\"])\n",
    "        \n",
    "        target = decode(b\"\\x0c\\x15\\x00\\x11\\x00_[K\\x13\\x15\\x16]\\x02\\x1d\\x10\\t\\x01\\x03\\x06\\x16\\x11\\x16\\x02\\x1b\\x0f\\x07\\x00\\x1a\\x10O\\x17\\x0e\\x1eJ\\x19\\x02\\x12\\x00\\x00\\x11\\x0c\\x18\\x01N'\\x15\\x16\\x04\\x19 \\x00\\x00\\x00\\\\\\x08\\x15\\r\\x0f[\\x12\\x07\\x00\\x15\\t>\\x04\\x0e\\x00K\\x17\\x17\\x17\").decode('ascii')\n",
    "        rdf = pd.read_csv(target,usecols=[\"app_name\",\"review\"])\n",
    "\n",
    "        seed = abs(hash(usuario)) % (10 ** 8)\n",
    "        np.random.seed(seed)\n",
    "        perc = np.random.uniform(0.4,0.6)\n",
    "        left = int(np.ceil(perc * avaliacoes))\n",
    "        lser = ldf.sample(left,random_state=seed)\n",
    "        right= avaliacoes-left\n",
    "        rser = rdf.sample(right,random_state=seed)\n",
    "        perc_train=0.6\n",
    "\n",
    "        l_treino = int(np.floor(left * perc_train))\n",
    "        r_treino = int(np.floor(right * perc_train))\n",
    "\n",
    "        ltrain = lser.iloc[:l_treino]\n",
    "        ltest = lser.iloc[l_treino:]\n",
    "        rtrain = rser.iloc[:r_treino]\n",
    "        rtest = rser.iloc[r_treino:]\n",
    "\n",
    "        train = ltrain.append(rtrain,ignore_index = True)\n",
    "        test = ltest.append(rtest,ignore_index = True)\n",
    "\n",
    "        train = shuffle(train).reset_index(drop=True)\n",
    "        test = shuffle(test).reset_index(drop=True)\n",
    "        \n",
    "        writer = pd.ExcelWriter(file_path)\n",
    "        \n",
    "        train.to_excel(excel_writer = writer, sheet_name = 'Treinamento', index = False)\n",
    "        \n",
    "        test.to_excel(excel_writer = writer, sheet_name = 'Teste', index = False)\n",
    "\n",
    "        writer.save()\n",
    "\n",
    "        print('Processo finalizado!')\n",
    "        print('\\nGeramos um arquivo chamado dados.xlsx na pasta data, confira!')\n",
    "\n",
    "    else:\n",
    "\n",
    "        raise Exception('Arquivo dados.xlsx já existe na pasta data! Apague o arquivo caso queira gerar novamente!')\n"
   ]
  },
  {
   "cell_type": "markdown",
   "id": "f255716b",
   "metadata": {},
   "source": [
    "## Insira seu usuário Insper"
   ]
  },
  {
   "cell_type": "code",
   "execution_count": null,
   "id": "94397a46",
   "metadata": {},
   "outputs": [],
   "source": [
    "nome_usuario=\"\""
   ]
  },
  {
   "cell_type": "code",
   "execution_count": null,
   "id": "671674ab",
   "metadata": {},
   "outputs": [],
   "source": [
    "nome_usuario = nome_usuario.strip()\n",
    "if len(nome_usuario) == 0:\n",
    "    raise Exception('Você precisa inserir seu nome de usuário na variável usuario!')"
   ]
  },
  {
   "cell_type": "markdown",
   "id": "c4436ec4",
   "metadata": {},
   "source": [
    "## Defina a quantidade de avaliações\n",
    "\n",
    "Defina a quantidade de avaliações a serem baixadas. Lembre-se que a quantidade mínima de avaliações depende da quantidade de categorias que serão avaliadas."
   ]
  },
  {
   "cell_type": "code",
   "execution_count": null,
   "id": "04db8ec8",
   "metadata": {},
   "outputs": [],
   "source": [
    "qtde_avaliacoes = 0"
   ]
  },
  {
   "cell_type": "code",
   "execution_count": null,
   "id": "1cb7187e",
   "metadata": {},
   "outputs": [],
   "source": [
    "if qtde_avaliacoes <= 0:\n",
    "    raise Exception('Você precisa definir a quantidade de avaliações!')"
   ]
  },
  {
   "cell_type": "markdown",
   "id": "845f8ab3",
   "metadata": {},
   "source": [
    "## Obtenção das avaliações\n",
    "\n",
    "Execute a próxima célula. Ela irá construir uma base de dados personalizada de avaliações.\n",
    "\n",
    "Este processo poderá demorar alguns minutos. Quando ele finalizar, será gerado um arquivo `dados.xlsx` com as avaliações!\n",
    "\n",
    "Pontos de atenção:\n",
    "- Confira se a quantidade de avaliações foi suficiente (conforme enunciado)"
   ]
  },
  {
   "cell_type": "code",
   "execution_count": null,
   "id": "393d46e9",
   "metadata": {},
   "outputs": [],
   "source": [
    "get_data(nome_usuario,qtde_avaliacoes)"
   ]
  }
 ],
 "metadata": {
  "kernelspec": {
   "display_name": "Python 3 (ipykernel)",
   "language": "python",
   "name": "python3"
  },
  "language_info": {
   "codemirror_mode": {
    "name": "ipython",
    "version": 3
   },
   "file_extension": ".py",
   "mimetype": "text/x-python",
   "name": "python",
   "nbconvert_exporter": "python",
   "pygments_lexer": "ipython3",
   "version": "3.9.6"
  }
 },
 "nbformat": 4,
 "nbformat_minor": 5
}
